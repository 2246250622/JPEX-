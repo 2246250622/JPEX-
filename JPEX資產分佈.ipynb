{
 "cells": [
  {
   "cell_type": "code",
   "execution_count": 1,
   "id": "afcd68b3",
   "metadata": {},
   "outputs": [
    {
     "name": "stdout",
     "output_type": "stream",
     "text": [
      "媽媽的總JPC: 780906.5934065934\n",
      "媽媽的總USDT: 7867.891627747254\n",
      "媽媽的總HKD: 61369.554696428575\n"
     ]
    }
   ],
   "source": [
    "#第一筆\n",
    "Fir_USDT = 1875\n",
    "#第二筆\n",
    "Sec_USDT = 2250\n",
    "#現在JPC的價格\n",
    "Current_JPC_Price = 0.01007533\n",
    "#貨幣轉換=>HKD\n",
    "Transfer_HKD = 7.8\n",
    "\n",
    "\n",
    "#第一筆買賣JPC\n",
    "Fir_JPC = Fir_USDT/0.0026\n",
    "Fir_USDT = Fir_JPC*0.0022\n",
    "Fir_JPC = Fir_USDT/0.0028\n",
    "#第二筆買JPC\n",
    "Sec_JPC = Sec_USDT / 0.0105\n",
    "\n",
    "#一共有JPC\n",
    "Total_JPC = Fir_JPC + Sec_JPC\n",
    "#一共有USDT\n",
    "Total_Amount_USDT = Total_JPC * Current_JPC_Price\n",
    "##一共有HKD\n",
    "Total_Amount_HKD = Total_Amount_USDT*Transfer_HKD\n",
    "print ('媽媽的總JPC: '+str(Total_JPC))\n",
    "print ('媽媽的總USDT: '+str(Total_Amount_USDT))\n",
    "print ('媽媽的總HKD: '+str(Total_Amount_HKD))"
   ]
  },
  {
   "cell_type": "code",
   "execution_count": 2,
   "id": "ac076047",
   "metadata": {},
   "outputs": [
    {
     "name": "stdout",
     "output_type": "stream",
     "text": [
      "總JPC: 3228866\n",
      "總USDT: 32531.89047578\n",
      "總HKD: 253748.745711084\n"
     ]
    }
   ],
   "source": [
    "#總共JPC\n",
    "JPC = 3228866\n",
    "#總共USDT\n",
    "USDT = JPC * Current_JPC_Price\n",
    "#總共HKD\n",
    "HKD = USDT * Transfer_HKD\n",
    "\n",
    "print ('總JPC: '+str(JPC))\n",
    "print ('總USDT: '+str(USDT))\n",
    "print ('總HKD: '+str(HKD))"
   ]
  },
  {
   "cell_type": "code",
   "execution_count": 4,
   "id": "e428c328",
   "metadata": {},
   "outputs": [
    {
     "name": "stdout",
     "output_type": "stream",
     "text": [
      "我的JPC: 2447959.4065934066\n",
      "我的USDT: 24663.99884803275\n",
      "我的HKD: 192379.1910146554\n"
     ]
    }
   ],
   "source": [
    "print ('我的JPC: '+str(JPC-Total_JPC))\n",
    "print ('我的USDT: '+str(USDT-Total_Amount_USDT))\n",
    "print ('我的HKD: '+str(HKD-Total_Amount_HKD))"
   ]
  },
  {
   "cell_type": "code",
   "execution_count": null,
   "id": "3a7f6718",
   "metadata": {},
   "outputs": [],
   "source": []
  }
 ],
 "metadata": {
  "kernelspec": {
   "display_name": "Python 3 (ipykernel)",
   "language": "python",
   "name": "python3"
  },
  "language_info": {
   "codemirror_mode": {
    "name": "ipython",
    "version": 3
   },
   "file_extension": ".py",
   "mimetype": "text/x-python",
   "name": "python",
   "nbconvert_exporter": "python",
   "pygments_lexer": "ipython3",
   "version": "3.9.13"
  }
 },
 "nbformat": 4,
 "nbformat_minor": 5
}
